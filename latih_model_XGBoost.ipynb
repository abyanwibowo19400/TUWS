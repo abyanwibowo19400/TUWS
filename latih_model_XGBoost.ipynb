{
 "cells": [
  {
   "cell_type": "code",
   "execution_count": 12,
   "id": "cb31ac4b",
   "metadata": {},
   "outputs": [],
   "source": [
    "import pandas as pd\n",
    "from sklearn.model_selection import train_test_split\n",
    "from xgboost import XGBClassifier\n",
    "from sklearn.metrics import accuracy_score, classification_report, confusion_matrix\n",
    "import seaborn as sns\n",
    "import matplotlib.pyplot as plt\n",
    "import joblib"
   ]
  },
  {
   "cell_type": "code",
   "execution_count": null,
   "id": "b04e94cc",
   "metadata": {},
   "outputs": [
    {
     "name": "stdout",
     "output_type": "stream",
     "text": [
      "1. Membaca file data...\n"
     ]
    }
   ],
   "source": [
    "# --- 1. MEMBACA DAN MEMPERSIAPKAN DATA ---\n",
    "print(\"1. Membaca file data...\")\n",
    "try:\n",
    "    # Ganti nama file jika berbeda\n",
    "    df = pd.read_csv(\"dataset/data_cuaca_historis_bandung.csv\") \n",
    "except FileNotFoundError:\n",
    "    print(\"Error: File 'data_cuaca_historis_bandung.csv' tidak ditemukan.\")\n",
    "    exit()"
   ]
  },
  {
   "cell_type": "code",
   "execution_count": 14,
   "id": "722d8a87",
   "metadata": {},
   "outputs": [
    {
     "name": "stdout",
     "output_type": "stream",
     "text": [
      "Data berhasil dibaca. Jumlah baris: 24373\n",
      "Contoh data:\n",
      "                   timestamp   suhu  kelembaban  kecepatan_angin  arah_angin  \\\n",
      "0 2025-08-08 20:01:36.758732  27.36        92.0             0.36       294.0   \n",
      "1 2025-08-08 20:02:50.420451  27.36        92.0             0.36       294.0   \n",
      "2 2025-08-08 20:12:50.561777  26.75        88.0             0.16       325.0   \n",
      "3 2025-08-08 20:14:24.682701  26.75        88.0             0.16       325.0   \n",
      "4 2025-08-08 20:16:24.809625  26.75        88.0             0.16       325.0   \n",
      "\n",
      "   tekanan_udara  intensitas_hujan  \n",
      "0         1014.0               0.0  \n",
      "1         1014.0               0.0  \n",
      "2         1014.0               0.0  \n",
      "3         1014.0               0.0  \n",
      "4         1014.0               0.0  \n"
     ]
    }
   ],
   "source": [
    "# Mengubah 'timestamp' menjadi tipe data datetime\n",
    "df['timestamp'] = pd.to_datetime(df['timestamp'])\n",
    "df = df.sort_values('timestamp').reset_index(drop=True)\n",
    "\n",
    "print(f\"Data berhasil dibaca. Jumlah baris: {len(df)}\")\n",
    "print(\"Contoh data:\")\n",
    "print(df.head())"
   ]
  },
  {
   "cell_type": "code",
   "execution_count": 15,
   "id": "156e1521",
   "metadata": {},
   "outputs": [],
   "source": [
    "# --- 2. FEATURE ENGINEERING: MEMBUAT TARGET PREDIKSI ---\n",
    "# Tujuan: Prediksi hujan dalam 30 menit ke depan.\n",
    "# Jika data diambil setiap 2 menit, maka 30 menit = 15 baris data ke depan.\n",
    "#print(\"\\n2. Membuat target prediksi (Feature Engineering)...\")\n",
    "\n",
    "# langkah_prediksi = 15 # 15 baris * 2 menit/baris = 30 menit\n",
    "\n",
    "# # Kita ingin tahu apakah ada hujan (intensitas > 0) dalam 15 langkah ke depan.\n",
    "# # .shift(-langkah_prediksi) -> melihat data 15 baris ke depan\n",
    "# # .rolling(...) -> membuat jendela geser dari 15 baris tersebut\n",
    "# # .max() -> mencari nilai intensitas hujan maksimum di jendela itu\n",
    "# df['intensitas_hujan_mendatang'] = df['intensitas_hujan'].shift(-langkah_prediksi).rolling(window=langkah_prediksi).max()\n",
    "\n",
    "# # Buat kolom target: 1 jika akan hujan, 0 jika tidak.\n",
    "# df['akan_hujan_30_menit'] = (df['intensitas_hujan_mendatang'] > 0).astype(int)\n",
    "\n",
    "# # Hapus baris yang memiliki nilai NaN (hasil dari proses shift dan rolling)\n",
    "# df.dropna(inplace=True)\n",
    "\n",
    "# print(\"Target 'akan_hujan_30_menit' berhasil dibuat.\")\n",
    "# print(\"Distribusi target:\")\n",
    "# print(df['akan_hujan_30_menit'].value_counts())"
   ]
  },
  {
   "cell_type": "code",
   "execution_count": 16,
   "id": "1b891980",
   "metadata": {},
   "outputs": [],
   "source": [
    "def tentukan_kelas_prediksi(row, langkah_prediksi):\n",
    "    # Cek apakah akan hujan dalam 'langkah_prediksi' ke depan\n",
    "    akan_hujan = row['intensitas_hujan_mendatang'] > 0\n",
    "    \n",
    "    if not akan_hujan:\n",
    "        return 0 # Kelas 0: Tidak Hujan\n",
    "    \n",
    "    # Jika akan hujan, tentukan arahnya dari 'arah_angin' saat ini\n",
    "    arah_angin = row['arah_angin']\n",
    "    \n",
    "    if 337.5 <= arah_angin < 360 or 0 <= arah_angin < 22.5:\n",
    "        return 1 # Utara\n",
    "    elif 22.5 <= arah_angin < 67.5:\n",
    "        return 2 # Timur Laut\n",
    "    elif 67.5 <= arah_angin < 112.5:\n",
    "        return 3 # Timur\n",
    "    elif 112.5 <= arah_angin < 157.5:\n",
    "        return 4 # Tenggara\n",
    "    elif 157.5 <= arah_angin < 202.5:\n",
    "        return 5 # Selatan\n",
    "    elif 202.5 <= arah_angin < 247.5:\n",
    "        return 6 # Barat Daya\n",
    "    elif 247.5 <= arah_angin < 292.5:\n",
    "        return 7 # Barat\n",
    "    else: # 292.5 <= arah_angin < 337.5\n",
    "        return 8 # Barat Laut\n",
    "\n",
    "# --- Di dalam skrip latih_model.py Anda ---\n",
    "# Ganti blok Feature Engineering Anda dengan ini:\n",
    "\n",
    "# ... (setelah membaca df)\n",
    "langkah_prediksi = 30\n",
    "df['intensitas_hujan_mendatang'] = df['intensitas_hujan'].shift(-langkah_prediksi).rolling(window=langkah_prediksi).max()\n",
    "df.dropna(inplace=True)\n",
    "\n",
    "# Buat target multi-kelas baru\n",
    "df['target_prediksi'] = df.apply(lambda row: tentukan_kelas_prediksi(row, langkah_prediksi), axis=1)\n",
    "\n",
    "# Hapus kolom bantuan\n",
    "df.drop(columns=['intensitas_hujan_mendatang'], inplace=True)\n",
    "\n",
    "# Target (y) sekarang adalah kolom baru ini\n",
    "y = df['target_prediksi']"
   ]
  },
  {
   "cell_type": "code",
   "execution_count": 17,
   "id": "0d9f9b51",
   "metadata": {},
   "outputs": [
    {
     "name": "stdout",
     "output_type": "stream",
     "text": [
      "\n",
      "3. Memisahkan fitur (X) dan target (y)...\n"
     ]
    }
   ],
   "source": [
    "# --- 3. MEMISAHKAN FITUR (X) DAN TARGET (y) ---\n",
    "print(\"\\n3. Memisahkan fitur (X) dan target (y)...\")\n",
    "\n",
    "# Fitur (input) adalah kondisi cuaca saat ini.\n",
    "fitur = ['suhu', 'kelembaban', 'kecepatan_angin', 'arah_angin', 'tekanan_udara', 'intensitas_hujan']\n",
    "X = df[fitur]\n",
    "\n",
    "# Target (output) adalah apa yang ingin kita prediksi.\n",
    "y = df['target_prediksi']"
   ]
  },
  {
   "cell_type": "code",
   "execution_count": 18,
   "id": "68b4762a",
   "metadata": {},
   "outputs": [
    {
     "name": "stdout",
     "output_type": "stream",
     "text": [
      "Mengecek distribusi kelas pada variabel y:\n",
      "target_prediksi\n",
      "0    17221\n",
      "1     2700\n",
      "4     1311\n",
      "2     1208\n",
      "8      842\n",
      "3      728\n",
      "5      144\n",
      "6      129\n",
      "7       31\n",
      "Name: count, dtype: int64\n"
     ]
    }
   ],
   "source": [
    "# Tambahkan baris ini untuk melihat jumlah data per kelas\n",
    "print(\"Mengecek distribusi kelas pada variabel y:\")\n",
    "print(y.value_counts())\n"
   ]
  },
  {
   "cell_type": "code",
   "execution_count": 19,
   "id": "bc7552ed",
   "metadata": {},
   "outputs": [],
   "source": [
    "X_train, X_test, y_train, y_test = train_test_split(X, y, test_size=0.2, random_state=42, stratify=y)"
   ]
  },
  {
   "cell_type": "code",
   "execution_count": 20,
   "id": "2f866830",
   "metadata": {},
   "outputs": [
    {
     "name": "stdout",
     "output_type": "stream",
     "text": [
      "\n",
      "5. Melatih model XGBClassifier...\n"
     ]
    },
    {
     "name": "stderr",
     "output_type": "stream",
     "text": [
      "c:\\Users\\bowow\\AppData\\Local\\Programs\\Python\\Python313\\Lib\\site-packages\\xgboost\\training.py:183: UserWarning: [12:40:53] WARNING: C:\\actions-runner\\_work\\xgboost\\xgboost\\src\\learner.cc:738: \n",
      "Parameters: { \"use_label_encoder\" } are not used.\n",
      "\n",
      "  bst.update(dtrain, iteration=i, fobj=obj)\n"
     ]
    },
    {
     "name": "stdout",
     "output_type": "stream",
     "text": [
      "Model berhasil dilatih!\n"
     ]
    }
   ],
   "source": [
    "# --- 5. MELATIH MODEL MACHINE LEARNING ---\n",
    "print(\"\\n5. Melatih model XGBClassifier...\")\n",
    "\n",
    "# class_weight='balanced' -> Memberi perhatian lebih pada kelas minoritas (hujan), sangat penting!\n",
    "model = XGBClassifier(n_estimators=100, random_state=42, use_label_encoder=False, eval_metric='mlogloss')\n",
    "model.fit(X_train, y_train)\n",
    "\n",
    "print(\"Model berhasil dilatih!\")"
   ]
  },
  {
   "cell_type": "code",
   "execution_count": 21,
   "id": "c7423329",
   "metadata": {},
   "outputs": [
    {
     "name": "stdout",
     "output_type": "stream",
     "text": [
      "\n",
      "6. Mengevaluasi performa model pada data testing...\n",
      "\n",
      "> Akurasi Model: 96.89%\n",
      "\n",
      "> Laporan Klasifikasi:\n",
      "                       precision    recall  f1-score   support\n",
      "\n",
      "          Tidak Hujan       0.99      0.97      0.98      3444\n",
      "     Hujan dari Utara       0.93      0.96      0.94       540\n",
      "Hujan dari Timur Laut       0.92      0.95      0.94       242\n",
      "     Hujan dari Timur       0.96      0.97      0.97       146\n",
      "  Hujan dari Tenggara       0.95      0.97      0.96       262\n",
      "   Hujan dari Selatan       1.00      0.97      0.98        29\n",
      "Hujan dari Barat Daya       0.96      1.00      0.98        26\n",
      "     Hujan dari Barat       0.86      1.00      0.92         6\n",
      "Hujan dari Barat Laut       0.89      0.98      0.93       168\n",
      "\n",
      "             accuracy                           0.97      4863\n",
      "            macro avg       0.94      0.97      0.96      4863\n",
      "         weighted avg       0.97      0.97      0.97      4863\n",
      "\n",
      "\n",
      "> Confusion Matrix:\n"
     ]
    },
    {
     "data": {
      "image/png": "[encoded data removed]",
      "text/plain": [
       "<Figure size 640x480 with 2 Axes>"
      ]
     },
     "metadata": {},
     "output_type": "display_data"
    }
   ],
   "source": [
    "# --- 6. MENGEVALUASI PERFORMA MODEL ---\n",
    "print(\"\\n6. Mengevaluasi performa model pada data testing...\")\n",
    "\n",
    "# Lakukan prediksi pada data yang belum pernah dilihat model (data testing)\n",
    "y_pred = model.predict(X_test)\n",
    "\n",
    "# A. Akurasi\n",
    "akurasi = accuracy_score(y_test, y_pred)\n",
    "print(f\"\\n> Akurasi Model: {akurasi:.2%}\")\n",
    "# Definisikan daftar nama yang sesuai dengan 9 kelas Anda\n",
    "nama_kelas = [\n",
    "    'Tidak Hujan',           # Kelas 0\n",
    "    'Hujan dari Utara',      # Kelas 1\n",
    "    'Hujan dari Timur Laut', # Kelas 2\n",
    "    'Hujan dari Timur',      # Kelas 3\n",
    "    'Hujan dari Tenggara',   # Kelas 4\n",
    "    'Hujan dari Selatan',    # Kelas 5\n",
    "    'Hujan dari Barat Daya', # Kelas 6\n",
    "    'Hujan dari Barat',      # Kelas 7\n",
    "    'Hujan dari Barat Laut'  # Kelas 8\n",
    "]\n",
    "# nama_kelas = [\n",
    "#     'Tidak Hujan',           # Kelas 0\n",
    "#     'Hujan dari Utara',      # Kelas 1\n",
    "#     'Hujan dari Timur Laut', # Kelas 2\n",
    "#     'Hujan dari Timur',      # Kelas 3\n",
    "#     'Hujan dari Tenggara',   # Kelas 4\n",
    "#     'Hujan dari Selatan',    # Kelas 5\n",
    "#     'Hujan dari Barat Daya', # Kelas 6\n",
    "#     'Hujan dari Barat Laut'  # Kelas 8\n",
    "# ]\n",
    "\n",
    "# B. Laporan Klasifikasi\n",
    "print(\"\\n> Laporan Klasifikasi:\")\n",
    "# Laporan ini memberikan info Precision, Recall, dan F1-Score\n",
    "# 'Recall' untuk kelas 'Hujan' adalah metrik paling penting di sini.\n",
    "#print(classification_report(y_test, y_pred, target_names=['Tidak Hujan', 'Hujan']))\n",
    "# Kode Anda yang menyebabkan error\n",
    "# print(classification_report(y_test, y_pred, target_names=['Tidak Hujan', 'Hujan']))\n",
    "\n",
    "# Kode yang benar\n",
    "print(classification_report(y_test, y_pred, target_names=nama_kelas))\n",
    "\n",
    "# C. Confusion Matrix (Opsional, untuk visualisasi)\n",
    "print(\"\\n> Confusion Matrix:\")\n",
    "cm = confusion_matrix(y_test, y_pred)\n",
    "sns.heatmap(cm, annot=True, fmt='d', cmap='Blues', xticklabels=['Tidak Hujan', 'Hujan'], yticklabels=['Tidak Hujan', 'Hujan'])\n",
    "plt.xlabel('Prediksi Model')\n",
    "plt.ylabel('Kenyataan (Aktual)')\n",
    "plt.title('Confusion Matrix XGBoost')\n",
    "plt.show() # Tampilkan plot"
   ]
  },
  {
   "cell_type": "code",
   "execution_count": 22,
   "id": "98437b03",
   "metadata": {},
   "outputs": [
    {
     "name": "stdout",
     "output_type": "stream",
     "text": [
      "\n",
      "7. Menyimpan model ke file...\n",
      "Model telah disimpan ke file: model_prediksi_hujan_darimana_XGBoost.joblib\n"
     ]
    }
   ],
   "source": [
    "# ... (kode evaluasi model Anda sebelumnya) ...\n",
    "\n",
    "# --- 7. SIMPAN MODEL KE FILE ---\n",
    "import joblib\n",
    "\n",
    "print(\"\\n7. Menyimpan model ke file...\")\n",
    "nama_file_model = 'model_prediksi_hujan_darimana_XGBoost.joblib'\n",
    "joblib.dump(model, nama_file_model)\n",
    "print(f\"Model telah disimpan ke file: {nama_file_model}\")"
   ]
  }
 ],
 "metadata": {
  "kernelspec": {
   "display_name": "Python 3",
   "language": "python",
   "name": "python3"
  },
  "language_info": {
   "codemirror_mode": {
    "name": "ipython",
    "version": 3
   },
   "file_extension": ".py",
   "mimetype": "text/x-python",
   "name": "python",
   "nbconvert_exporter": "python",
   "pygments_lexer": "ipython3",
   "version": "3.13.3"
  }
 },
 "nbformat": 4,
 "nbformat_minor": 5
}
