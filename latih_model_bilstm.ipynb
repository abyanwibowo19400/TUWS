{
 "cells": [
  {
   "cell_type": "code",
   "execution_count": 49,
   "id": "09e72c70",
   "metadata": {},
   "outputs": [],
   "source": [
    "import numpy as np\n",
    "import tensorflow as tf\n",
    "from keras.models import Sequential\n",
    "from keras.layers import LSTM, Dense, Dropout, Bidirectional\n",
    "from sklearn.model_selection import train_test_split\n",
    "from keras.callbacks import EarlyStopping\n",
    "import matplotlib.pyplot as plt"
   ]
  },
  {
   "cell_type": "code",
   "execution_count": 50,
   "id": "278aa188",
   "metadata": {},
   "outputs": [],
   "source": [
    "# --- KONFIGURASI ---\n",
    "FILE_INPUT_X = \"X_sekuensial.npy\"\n",
    "FILE_INPUT_Y = \"y_multi_output.npy\"\n",
    "FILE_OUTPUT_MODEL = \"model_bilstm_cuaca.h5\" # Model Keras disimpan dalam format .h5"
   ]
  },
  {
   "cell_type": "code",
   "execution_count": 51,
   "id": "e087c933",
   "metadata": {},
   "outputs": [
    {
     "name": "stdout",
     "output_type": "stream",
     "text": [
      "--- Langkah 1: Memuat Data Sekuensial ---\n",
      "Data berhasil dimuat.\n",
      "Bentuk data X: (28944, 30, 6)\n",
      "Bentuk data y: (28944, 4)\n"
     ]
    }
   ],
   "source": [
    "# ==============================================================================\n",
    "# 1. MEMUAT DATA YANG SUDAH DIPROSES\n",
    "# ==============================================================================\n",
    "print(\"--- Langkah 1: Memuat Data Sekuensial ---\")\n",
    "try:\n",
    "    X = np.load(FILE_INPUT_X)\n",
    "    y = np.load(FILE_INPUT_Y)\n",
    "except FileNotFoundError:\n",
    "    print(\"Error: Pastikan file 'X_sekuensial.npy' dan 'y_multi_output.npy' sudah ada.\")\n",
    "    print(\"Jalankan skrip 'persiapan_data_sekuensial.py' terlebih dahulu.\")\n",
    "    exit()\n",
    "\n",
    "print(f\"Data berhasil dimuat.\")\n",
    "print(f\"Bentuk data X: {X.shape}\")\n",
    "print(f\"Bentuk data y: {y.shape}\")\n",
    "\n",
    "# Ambil informasi bentuk data untuk arsitektur model\n",
    "JUMLAH_SAMPEL, LANGKAH_WAKTU_INPUT, JUMLAH_FITUR = X.shape\n",
    "JUMLAH_OUTPUT_STEPS = y.shape[1] # Jumlah langkah waktu yang diprediksi (misal: 4)\n",
    "JUMLAH_KELAS = 9 # 0 (Tidak Hujan) + 8 Arah Angin"
   ]
  },
  {
   "cell_type": "code",
   "execution_count": null,
   "id": "7fa10fc4",
   "metadata": {},
   "outputs": [
    {
     "name": "stdout",
     "output_type": "stream",
     "text": [
      "\n",
      "--- Langkah 2: Membangun Arsitektur Model LSTM ---\n"
     ]
    },
    {
     "name": "stderr",
     "output_type": "stream",
     "text": [
      "c:\\Users\\bowow\\AppData\\Local\\Programs\\Python\\Python313\\Lib\\site-packages\\keras\\src\\layers\\rnn\\rnn.py:199: UserWarning: Do not pass an `input_shape`/`input_dim` argument to a layer. When using Sequential models, prefer using an `Input(shape)` object as the first layer in the model instead.\n",
      "  super().__init__(**kwargs)\n"
     ]
    },
    {
     "data": {
      "text/html": [
       "<pre style=\"white-space:pre;overflow-x:auto;line-height:normal;font-family:Menlo,'DejaVu Sans Mono',consolas,'Courier New',monospace\"><span style=\"font-weight: bold\">Model: \"sequential_6\"</span>\n",
       "</pre>\n"
      ],
      "text/plain": [
       "\u001b[1mModel: \"sequential_6\"\u001b[0m\n"
      ]
     },
     "metadata": {},
     "output_type": "display_data"
    },
    {
     "data": {
      "text/html": [
       "<pre style=\"white-space:pre;overflow-x:auto;line-height:normal;font-family:Menlo,'DejaVu Sans Mono',consolas,'Courier New',monospace\">┏━━━━━━━━━━━━━━━━━━━━━━━━━━━━━━━━━┳━━━━━━━━━━━━━━━━━━━━━━━━┳━━━━━━━━━━━━━━━┓\n",
       "┃<span style=\"font-weight: bold\"> Layer (type)                    </span>┃<span style=\"font-weight: bold\"> Output Shape           </span>┃<span style=\"font-weight: bold\">       Param # </span>┃\n",
       "┡━━━━━━━━━━━━━━━━━━━━━━━━━━━━━━━━━╇━━━━━━━━━━━━━━━━━━━━━━━━╇━━━━━━━━━━━━━━━┩\n",
       "│ bidirectional_6 (<span style=\"color: #0087ff; text-decoration-color: #0087ff\">Bidirectional</span>) │ ?                      │   <span style=\"color: #00af00; text-decoration-color: #00af00\">0</span> (unbuilt) │\n",
       "├─────────────────────────────────┼────────────────────────┼───────────────┤\n",
       "│ dropout_12 (<span style=\"color: #0087ff; text-decoration-color: #0087ff\">Dropout</span>)            │ ?                      │             <span style=\"color: #00af00; text-decoration-color: #00af00\">0</span> │\n",
       "├─────────────────────────────────┼────────────────────────┼───────────────┤\n",
       "│ lstm_13 (<span style=\"color: #0087ff; text-decoration-color: #0087ff\">LSTM</span>)                  │ ?                      │   <span style=\"color: #00af00; text-decoration-color: #00af00\">0</span> (unbuilt) │\n",
       "├─────────────────────────────────┼────────────────────────┼───────────────┤\n",
       "│ dropout_13 (<span style=\"color: #0087ff; text-decoration-color: #0087ff\">Dropout</span>)            │ ?                      │             <span style=\"color: #00af00; text-decoration-color: #00af00\">0</span> │\n",
       "├─────────────────────────────────┼────────────────────────┼───────────────┤\n",
       "│ dense_12 (<span style=\"color: #0087ff; text-decoration-color: #0087ff\">Dense</span>)                │ ?                      │   <span style=\"color: #00af00; text-decoration-color: #00af00\">0</span> (unbuilt) │\n",
       "├─────────────────────────────────┼────────────────────────┼───────────────┤\n",
       "│ dense_13 (<span style=\"color: #0087ff; text-decoration-color: #0087ff\">Dense</span>)                │ ?                      │   <span style=\"color: #00af00; text-decoration-color: #00af00\">0</span> (unbuilt) │\n",
       "├─────────────────────────────────┼────────────────────────┼───────────────┤\n",
       "│ reshape_6 (<span style=\"color: #0087ff; text-decoration-color: #0087ff\">Reshape</span>)             │ ?                      │   <span style=\"color: #00af00; text-decoration-color: #00af00\">0</span> (unbuilt) │\n",
       "└─────────────────────────────────┴────────────────────────┴───────────────┘\n",
       "</pre>\n"
      ],
      "text/plain": [
       "┏━━━━━━━━━━━━━━━━━━━━━━━━━━━━━━━━━┳━━━━━━━━━━━━━━━━━━━━━━━━┳━━━━━━━━━━━━━━━┓\n",
       "┃\u001b[1m \u001b[0m\u001b[1mLayer (type)                   \u001b[0m\u001b[1m \u001b[0m┃\u001b[1m \u001b[0m\u001b[1mOutput Shape          \u001b[0m\u001b[1m \u001b[0m┃\u001b[1m \u001b[0m\u001b[1m      Param #\u001b[0m\u001b[1m \u001b[0m┃\n",
       "┡━━━━━━━━━━━━━━━━━━━━━━━━━━━━━━━━━╇━━━━━━━━━━━━━━━━━━━━━━━━╇━━━━━━━━━━━━━━━┩\n",
       "│ bidirectional_6 (\u001b[38;5;33mBidirectional\u001b[0m) │ ?                      │   \u001b[38;5;34m0\u001b[0m (unbuilt) │\n",
       "├─────────────────────────────────┼────────────────────────┼───────────────┤\n",
       "│ dropout_12 (\u001b[38;5;33mDropout\u001b[0m)            │ ?                      │             \u001b[38;5;34m0\u001b[0m │\n",
       "├─────────────────────────────────┼────────────────────────┼───────────────┤\n",
       "│ lstm_13 (\u001b[38;5;33mLSTM\u001b[0m)                  │ ?                      │   \u001b[38;5;34m0\u001b[0m (unbuilt) │\n",
       "├─────────────────────────────────┼────────────────────────┼───────────────┤\n",
       "│ dropout_13 (\u001b[38;5;33mDropout\u001b[0m)            │ ?                      │             \u001b[38;5;34m0\u001b[0m │\n",
       "├─────────────────────────────────┼────────────────────────┼───────────────┤\n",
       "│ dense_12 (\u001b[38;5;33mDense\u001b[0m)                │ ?                      │   \u001b[38;5;34m0\u001b[0m (unbuilt) │\n",
       "├─────────────────────────────────┼────────────────────────┼───────────────┤\n",
       "│ dense_13 (\u001b[38;5;33mDense\u001b[0m)                │ ?                      │   \u001b[38;5;34m0\u001b[0m (unbuilt) │\n",
       "├─────────────────────────────────┼────────────────────────┼───────────────┤\n",
       "│ reshape_6 (\u001b[38;5;33mReshape\u001b[0m)             │ ?                      │   \u001b[38;5;34m0\u001b[0m (unbuilt) │\n",
       "└─────────────────────────────────┴────────────────────────┴───────────────┘\n"
      ]
     },
     "metadata": {},
     "output_type": "display_data"
    },
    {
     "data": {
      "text/html": [
       "<pre style=\"white-space:pre;overflow-x:auto;line-height:normal;font-family:Menlo,'DejaVu Sans Mono',consolas,'Courier New',monospace\"><span style=\"font-weight: bold\"> Total params: </span><span style=\"color: #00af00; text-decoration-color: #00af00\">0</span> (0.00 B)\n",
       "</pre>\n"
      ],
      "text/plain": [
       "\u001b[1m Total params: \u001b[0m\u001b[38;5;34m0\u001b[0m (0.00 B)\n"
      ]
     },
     "metadata": {},
     "output_type": "display_data"
    },
    {
     "data": {
      "text/html": [
       "<pre style=\"white-space:pre;overflow-x:auto;line-height:normal;font-family:Menlo,'DejaVu Sans Mono',consolas,'Courier New',monospace\"><span style=\"font-weight: bold\"> Trainable params: </span><span style=\"color: #00af00; text-decoration-color: #00af00\">0</span> (0.00 B)\n",
       "</pre>\n"
      ],
      "text/plain": [
       "\u001b[1m Trainable params: \u001b[0m\u001b[38;5;34m0\u001b[0m (0.00 B)\n"
      ]
     },
     "metadata": {},
     "output_type": "display_data"
    },
    {
     "data": {
      "text/html": [
       "<pre style=\"white-space:pre;overflow-x:auto;line-height:normal;font-family:Menlo,'DejaVu Sans Mono',consolas,'Courier New',monospace\"><span style=\"font-weight: bold\"> Non-trainable params: </span><span style=\"color: #00af00; text-decoration-color: #00af00\">0</span> (0.00 B)\n",
       "</pre>\n"
      ],
      "text/plain": [
       "\u001b[1m Non-trainable params: \u001b[0m\u001b[38;5;34m0\u001b[0m (0.00 B)\n"
      ]
     },
     "metadata": {},
     "output_type": "display_data"
    }
   ],
   "source": [
    "# ==============================================================================\n",
    "# 2. MEMBANGUN ARSITEKTUR MODEL biLSTM\n",
    "# ==============================================================================\n",
    "print(\"\\n--- Langkah 2: Membangun Arsitektur Model LSTM ---\")\n",
    "model = Sequential()\n",
    "# Layer LSTM pertama dengan return_sequences=True agar bisa ditumpuk\n",
    "model.add(Bidirectional(LSTM(64, activation='relu', return_sequences=True, input_shape=(LANGKAH_WAKTU_INPUT, JUMLAH_FITUR))))\n",
    "model.add(Dropout(0.5)) # Dropout untuk mencegah overfitting\n",
    "# Layer LSTM kedua\n",
    "model.add(LSTM(32, activation='relu'))\n",
    "model.add(Dropout(0.2))\n",
    "# Layer Dense tersembunyi\n",
    "model.add(Dense(32, activation='relu'))\n",
    "# Layer Output: Ini adalah bagian multi-output\n",
    "# Kita perlu mengubah bentuk output agar sesuai dengan (4 langkah prediksi * 9 kelas)\n",
    "model.add(Dense(JUMLAH_OUTPUT_STEPS * JUMLAH_KELAS, activation='softmax'))\n",
    "# Mengubah bentuk output akhir menjadi (batch_size, 4 langkah, 9 kelas)\n",
    "model.add(tf.keras.layers.Reshape((JUMLAH_OUTPUT_STEPS, JUMLAH_KELAS)))\n",
    "\n",
    "\n",
    "# Compile model\n",
    "# 'sparse_categorical_crossentropy' cocok karena target y kita adalah angka integer (0-8)\n",
    "model.compile(optimizer='adam', loss='sparse_categorical_crossentropy', metrics=['accuracy'])\n",
    "\n",
    "# Tampilkan ringkasan arsitektur model\n",
    "model.summary()"
   ]
  },
  {
   "cell_type": "code",
   "execution_count": 53,
   "id": "9e77bc04",
   "metadata": {},
   "outputs": [
    {
     "name": "stdout",
     "output_type": "stream",
     "text": [
      "\n",
      "--- Langkah 3: Membagi Data dan Melatih Model ---\n",
      "Ukuran data training: 23155\n",
      "Ukuran data validasi: 5789\n",
      "Epoch 1/50\n",
      "\u001b[1m362/362\u001b[0m \u001b[32m━━━━━━━━━━━━━━━━━━━━\u001b[0m\u001b[37m\u001b[0m \u001b[1m17s\u001b[0m 28ms/step - accuracy: 0.8947 - loss: 0.4316 - val_accuracy: 0.9272 - val_loss: 0.2529\n",
      "Epoch 2/50\n",
      "\u001b[1m362/362\u001b[0m \u001b[32m━━━━━━━━━━━━━━━━━━━━\u001b[0m\u001b[37m\u001b[0m \u001b[1m9s\u001b[0m 24ms/step - accuracy: 0.9296 - loss: 0.2403 - val_accuracy: 0.9327 - val_loss: 0.2200\n",
      "Epoch 3/50\n",
      "\u001b[1m362/362\u001b[0m \u001b[32m━━━━━━━━━━━━━━━━━━━━\u001b[0m\u001b[37m\u001b[0m \u001b[1m9s\u001b[0m 26ms/step - accuracy: 0.9328 - loss: 0.2216 - val_accuracy: 0.9341 - val_loss: 0.2107\n",
      "Epoch 4/50\n",
      "\u001b[1m362/362\u001b[0m \u001b[32m━━━━━━━━━━━━━━━━━━━━\u001b[0m\u001b[37m\u001b[0m \u001b[1m10s\u001b[0m 27ms/step - accuracy: 0.9347 - loss: 0.2136 - val_accuracy: 0.9346 - val_loss: 0.2064\n",
      "Epoch 5/50\n",
      "\u001b[1m362/362\u001b[0m \u001b[32m━━━━━━━━━━━━━━━━━━━━\u001b[0m\u001b[37m\u001b[0m \u001b[1m9s\u001b[0m 24ms/step - accuracy: 0.9342 - loss: 0.2137 - val_accuracy: 0.9339 - val_loss: 0.2108\n",
      "Epoch 6/50\n",
      "\u001b[1m362/362\u001b[0m \u001b[32m━━━━━━━━━━━━━━━━━━━━\u001b[0m\u001b[37m\u001b[0m \u001b[1m10s\u001b[0m 26ms/step - accuracy: 0.9353 - loss: 0.2062 - val_accuracy: 0.9355 - val_loss: 0.2003\n",
      "Epoch 7/50\n",
      "\u001b[1m362/362\u001b[0m \u001b[32m━━━━━━━━━━━━━━━━━━━━\u001b[0m\u001b[37m\u001b[0m \u001b[1m13s\u001b[0m 36ms/step - accuracy: 0.9368 - loss: 0.2016 - val_accuracy: 0.9382 - val_loss: 0.1960\n",
      "Epoch 8/50\n",
      "\u001b[1m362/362\u001b[0m \u001b[32m━━━━━━━━━━━━━━━━━━━━\u001b[0m\u001b[37m\u001b[0m \u001b[1m18s\u001b[0m 48ms/step - accuracy: 0.9370 - loss: 0.1991 - val_accuracy: 0.9379 - val_loss: 0.1997\n",
      "Epoch 9/50\n",
      "\u001b[1m362/362\u001b[0m \u001b[32m━━━━━━━━━━━━━━━━━━━━\u001b[0m\u001b[37m\u001b[0m \u001b[1m24s\u001b[0m 57ms/step - accuracy: 0.9341 - loss: 0.3297 - val_accuracy: 0.9248 - val_loss: 0.4872\n",
      "Epoch 10/50\n",
      "\u001b[1m362/362\u001b[0m \u001b[32m━━━━━━━━━━━━━━━━━━━━\u001b[0m\u001b[37m\u001b[0m \u001b[1m31s\u001b[0m 28ms/step - accuracy: 0.9267 - loss: 0.3167 - val_accuracy: 0.9316 - val_loss: 0.2365\n"
     ]
    }
   ],
   "source": [
    "# ==============================================================================\n",
    "# 3. MEMBAGI DATA & MELATIH MODEL\n",
    "# ==============================================================================\n",
    "print(\"\\n--- Langkah 3: Membagi Data dan Melatih Model ---\")\n",
    "# Bagi data menjadi 80% training dan 20% validation\n",
    "X_train, X_val, y_train, y_val = train_test_split(X, y, test_size=0.2, random_state=42)\n",
    "\n",
    "print(f\"Ukuran data training: {len(X_train)}\")\n",
    "print(f\"Ukuran data validasi: {len(X_val)}\")\n",
    "\n",
    "# Hentikan training jika val_loss tidak membaik selama 3 epoch\n",
    "early_stopping = EarlyStopping(monitor='val_loss', patience=3, restore_best_weights=True)\n",
    "\n",
    "\n",
    "# Latih model\n",
    "# epochs=20: Model akan melihat seluruh data training sebanyak 20 kali\n",
    "# batch_size=64: Model akan memproses 64 sampel sekaligus dalam satu iterasi\n",
    "history = model.fit(\n",
    "    X_train,\n",
    "    y_train,\n",
    "    epochs=50,\n",
    "    batch_size=64,\n",
    "    validation_data=(X_val, y_val),\n",
    "    callbacks=[early_stopping]\n",
    ")"
   ]
  },
  {
   "cell_type": "code",
   "execution_count": 54,
   "id": "a43f733e",
   "metadata": {},
   "outputs": [
    {
     "name": "stdout",
     "output_type": "stream",
     "text": [
      "\n",
      "--- Langkah 4: Visualisasi Hasil Training ---\n"
     ]
    },
    {
     "data": {
      "image/png": "[encoded data removed]",
      "text/plain": [
       "<Figure size 1200x500 with 1 Axes>"
      ]
     },
     "metadata": {},
     "output_type": "display_data"
    }
   ],
   "source": [
    "# ==============================================================================\n",
    "# 4. VISUALISASI HASIL TRAINING (OPSIONAL TAPI BERGUNA)\n",
    "# ==============================================================================\n",
    "print(\"\\n--- Langkah 4: Visualisasi Hasil Training ---\")\n",
    "plt.figure(figsize=(12, 5))\n",
    "plt.plot(history.history['loss'], label='Loss Training')\n",
    "plt.plot(history.history['val_loss'], label='Loss Validasi')\n",
    "plt.title('Grafik Loss Model Selama Training')\n",
    "plt.xlabel('Epoch')\n",
    "plt.ylabel('Loss')\n",
    "plt.legend()\n",
    "plt.savefig('grafik_loss_model.png')\n",
    "plt.show()\n",
    "# ... (setelah blok kode VISUALISASI HASIL TRAINING) ..."
   ]
  },
  {
   "cell_type": "code",
   "execution_count": 55,
   "id": "a86a1310",
   "metadata": {},
   "outputs": [
    {
     "name": "stdout",
     "output_type": "stream",
     "text": [
      "\n",
      "--- Langkah 5: Evaluasi Detail Model ---\n",
      "\u001b[1m181/181\u001b[0m \u001b[32m━━━━━━━━━━━━━━━━━━━━\u001b[0m\u001b[37m\u001b[0m \u001b[1m2s\u001b[0m 10ms/step\n",
      "\n",
      "===== Laporan Klasifikasi untuk Prediksi +5 Menit =====\n",
      "                       precision    recall  f1-score   support\n",
      "\n",
      "          Tidak Hujan       0.94      1.00      0.97      5359\n",
      "     Hujan dari Utara       0.88      0.21      0.33       184\n",
      "Hujan dari Timur Laut       0.00      0.00      0.00         0\n",
      "     Hujan dari Timur       0.00      0.00      0.00         0\n",
      "  Hujan dari Tenggara       0.00      0.00      0.00         0\n",
      "   Hujan dari Selatan       0.00      0.00      0.00         0\n",
      "Hujan dari Barat Daya       0.00      0.00      0.00         0\n",
      "     Hujan dari Barat       0.00      0.00      0.00         0\n",
      "Hujan dari Barat Laut       0.84      0.23      0.36       246\n",
      "\n",
      "             accuracy                           0.94      5789\n",
      "            macro avg       0.30      0.16      0.18      5789\n",
      "         weighted avg       0.94      0.94      0.92      5789\n",
      "\n",
      "\n",
      "===== Laporan Klasifikasi untuk Prediksi +10 Menit =====\n",
      "                       precision    recall  f1-score   support\n",
      "\n",
      "          Tidak Hujan       0.94      1.00      0.97      5356\n",
      "     Hujan dari Utara       0.93      0.21      0.35       179\n",
      "Hujan dari Timur Laut       0.00      0.00      0.00         0\n",
      "     Hujan dari Timur       0.00      0.00      0.00         0\n",
      "  Hujan dari Tenggara       0.00      0.00      0.00         0\n",
      "   Hujan dari Selatan       0.00      0.00      0.00         0\n",
      "Hujan dari Barat Daya       0.00      0.00      0.00         0\n",
      "     Hujan dari Barat       0.00      0.00      0.00         0\n",
      "Hujan dari Barat Laut       0.89      0.19      0.31       254\n",
      "\n",
      "             accuracy                           0.94      5789\n",
      "            macro avg       0.31      0.16      0.18      5789\n",
      "         weighted avg       0.94      0.94      0.92      5789\n",
      "\n",
      "\n",
      "===== Laporan Klasifikasi untuk Prediksi +15 Menit =====\n",
      "                       precision    recall  f1-score   support\n",
      "\n",
      "          Tidak Hujan       0.94      1.00      0.97      5363\n",
      "     Hujan dari Utara       0.94      0.16      0.28       178\n",
      "Hujan dari Timur Laut       0.00      0.00      0.00         0\n",
      "     Hujan dari Timur       0.00      0.00      0.00         0\n",
      "  Hujan dari Tenggara       0.00      0.00      0.00         0\n",
      "   Hujan dari Selatan       0.00      0.00      0.00         0\n",
      "Hujan dari Barat Daya       0.00      0.00      0.00         0\n",
      "     Hujan dari Barat       0.00      0.00      0.00         0\n",
      "Hujan dari Barat Laut       0.81      0.17      0.28       248\n",
      "\n",
      "             accuracy                           0.94      5789\n",
      "            macro avg       0.30      0.15      0.17      5789\n",
      "         weighted avg       0.93      0.94      0.92      5789\n",
      "\n",
      "\n",
      "===== Laporan Klasifikasi untuk Prediksi +20 Menit =====\n",
      "                       precision    recall  f1-score   support\n",
      "\n",
      "          Tidak Hujan       0.94      1.00      0.97      5372\n",
      "     Hujan dari Utara       0.96      0.15      0.25       179\n",
      "Hujan dari Timur Laut       0.00      0.00      0.00         0\n",
      "     Hujan dari Timur       0.00      0.00      0.00         0\n",
      "  Hujan dari Tenggara       0.00      0.00      0.00         0\n",
      "   Hujan dari Selatan       0.00      0.00      0.00         0\n",
      "Hujan dari Barat Daya       0.00      0.00      0.00         0\n",
      "     Hujan dari Barat       0.00      0.00      0.00         0\n",
      "Hujan dari Barat Laut       0.85      0.14      0.24       238\n",
      "\n",
      "             accuracy                           0.94      5789\n",
      "            macro avg       0.31      0.14      0.16      5789\n",
      "         weighted avg       0.93      0.94      0.92      5789\n",
      "\n"
     ]
    }
   ],
   "source": [
    "# ==============================================================================\n",
    "# 5. EVALUASI DETAIL PADA DATA VALIDASI\n",
    "# ==============================================================================\n",
    "print(\"\\n--- Langkah 5: Evaluasi Detail Model ---\")\n",
    "from sklearn.metrics import classification_report\n",
    "\n",
    "# Lakukan prediksi pada data validasi\n",
    "y_pred_raw = model.predict(X_val)\n",
    "# Ubah hasil probabilitas menjadi kelas prediksi (0-8)\n",
    "y_pred = np.argmax(y_pred_raw, axis=2)\n",
    "\n",
    "# Definisikan nama kelas untuk laporan\n",
    "nama_kelas = [\n",
    "    'Tidak Hujan', 'Hujan dari Utara', 'Hujan dari Timur Laut',\n",
    "    'Hujan dari Timur', 'Hujan dari Tenggara', 'Hujan dari Selatan',\n",
    "    'Hujan dari Barat Daya', 'Hujan dari Barat', 'Hujan dari Barat Laut'\n",
    "]\n",
    "\n",
    "# Karena ini adalah model multi-output, mari kita evaluasi setiap langkah prediksi\n",
    "# y_val -> (jumlah_sampel, 4 langkah prediksi)\n",
    "# y_pred -> (jumlah_sampel, 4 langkah prediksi)\n",
    "for i, langkah in enumerate([5, 10, 15, 20]):\n",
    "    print(f\"\\n===== Laporan Klasifikasi untuk Prediksi +{langkah} Menit =====\")\n",
    "    # Ambil semua prediksi dan target untuk langkah waktu ke-i\n",
    "    print(classification_report(\n",
    "        y_val[:, i], \n",
    "        y_pred[:, i],\n",
    "        labels=range(9),\n",
    "        target_names=nama_kelas,\n",
    "        zero_division=0\n",
    "    ))"
   ]
  },
  {
   "cell_type": "code",
   "execution_count": 56,
   "id": "5ca1c005",
   "metadata": {},
   "outputs": [
    {
     "name": "stderr",
     "output_type": "stream",
     "text": [
      "WARNING:absl:You are saving your model as an HDF5 file via `model.save()` or `keras.saving.save_model(model)`. This file format is considered legacy. We recommend using instead the native Keras format, e.g. `model.save('my_model.keras')` or `keras.saving.save_model(model, 'my_model.keras')`. \n"
     ]
    },
    {
     "name": "stdout",
     "output_type": "stream",
     "text": [
      "Model telah disimpan sebagai 'model_bilstm_cuaca.h5'\n"
     ]
    }
   ],
   "source": [
    "# ==============================================================================\n",
    "# 6. MENYIMPAN MODEL\n",
    "# ==============================================================================\n",
    "\n",
    "model.save(FILE_OUTPUT_MODEL)\n",
    "print(f\"Model telah disimpan sebagai '{FILE_OUTPUT_MODEL}'\")"
   ]
  }
 ],
 "metadata": {
  "kernelspec": {
   "display_name": "Python 3",
   "language": "python",
   "name": "python3"
  },
  "language_info": {
   "codemirror_mode": {
    "name": "ipython",
    "version": 3
   },
   "file_extension": ".py",
   "mimetype": "text/x-python",
   "name": "python",
   "nbconvert_exporter": "python",
   "pygments_lexer": "ipython3",
   "version": "3.13.3"
  }
 },
 "nbformat": 4,
 "nbformat_minor": 5
}
