{
 "cells": [
  {
   "cell_type": "code",
   "execution_count": 1,
   "id": "ed2f647e",
   "metadata": {},
   "outputs": [],
   "source": [
    "import pandas as pd\n"
   ]
  },
  {
   "cell_type": "code",
   "execution_count": null,
   "id": "233e51c0",
   "metadata": {},
   "outputs": [
    {
     "name": "stdout",
     "output_type": "stream",
     "text": [
      "1. Membaca file data...\n"
     ]
    }
   ],
   "source": [
    "# --- 1. MEMBACA DAN MEMPERSIAPKAN DATA ---\n",
    "print(\"1. Membaca file data...\")\n",
    "try:\n",
    "    # Ganti nama file jika berbeda\n",
    "    df = pd.read_csv(\"dataset/data_cuaca_historis_bandung.csv\") \n",
    "    # df = pd.read_csv(\"data_cuaca_augmented.csv\") \n",
    "except FileNotFoundError:\n",
    "    print(\"Error: File 'data_cuaca_historis_bandung.csv' tidak ditemukan.\")\n",
    "    exit()"
   ]
  },
  {
   "cell_type": "code",
   "execution_count": 3,
   "id": "a434d17b",
   "metadata": {},
   "outputs": [
    {
     "name": "stdout",
     "output_type": "stream",
     "text": [
      "Data berhasil dibaca. Jumlah baris: 131\n",
      "Contoh data:\n",
      "                   timestamp   suhu  kelembaban  kecepatan_angin  arah_angin  \\\n",
      "0 2025-09-22 10:34:02.191570  28.65          64             1.86          29   \n",
      "1 2025-09-22 10:35:02.325098  28.65          64             1.86          29   \n",
      "2 2025-09-22 10:36:02.547758  28.65          64             1.86          29   \n",
      "3 2025-09-22 10:37:02.696813  28.65          64             1.86          29   \n",
      "4 2025-09-22 10:38:02.839180  28.65          64             1.86          29   \n",
      "\n",
      "   tekanan_udara  intensitas_hujan  \n",
      "0           1012               0.0  \n",
      "1           1012               0.0  \n",
      "2           1012               0.0  \n",
      "3           1012               0.0  \n",
      "4           1012               0.0  \n"
     ]
    }
   ],
   "source": [
    "# Mengubah 'timestamp' menjadi tipe data datetime\n",
    "df['timestamp'] = pd.to_datetime(df['timestamp'])\n",
    "df = df.sort_values('timestamp').reset_index(drop=True)\n",
    "\n",
    "print(f\"Data berhasil dibaca. Jumlah baris: {len(df)}\")\n",
    "print(\"Contoh data:\")\n",
    "print(df.head())"
   ]
  },
  {
   "cell_type": "code",
   "execution_count": 4,
   "id": "95b17ed1",
   "metadata": {},
   "outputs": [
    {
     "name": "stdout",
     "output_type": "stream",
     "text": [
      "Mengecek distribusi kelas pada variabel y:\n",
      "target_prediksi\n",
      "0    102\n",
      "Name: count, dtype: int64\n"
     ]
    }
   ],
   "source": [
    "def tentukan_kelas_prediksi(row, langkah_prediksi):\n",
    "    # Cek apakah akan hujan dalam 'langkah_prediksi' ke depan\n",
    "    akan_hujan = row['intensitas_hujan_mendatang'] > 0\n",
    "    \n",
    "    if not akan_hujan:\n",
    "        return 0 # Kelas 0: Tidak Hujan\n",
    "    \n",
    "    # Jika akan hujan, tentukan arahnya dari 'arah_angin' saat ini\n",
    "    arah_angin = row['arah_angin']\n",
    "    \n",
    "    if 337.5 <= arah_angin < 360 or 0 <= arah_angin < 22.5:\n",
    "        return 1 # Utara\n",
    "    elif 22.5 <= arah_angin < 67.5:\n",
    "        return 2 # Timur Laut\n",
    "    elif 67.5 <= arah_angin < 112.5:\n",
    "        return 3 # Timur\n",
    "    elif 112.5 <= arah_angin < 157.5:\n",
    "        return 4 # Tenggara\n",
    "    elif 157.5 <= arah_angin < 202.5:\n",
    "        return 5 # Selatan\n",
    "    elif 202.5 <= arah_angin < 247.5:\n",
    "        return 6 # Barat Daya\n",
    "    elif 247.5 <= arah_angin < 292.5:\n",
    "        return 7 # Barat\n",
    "    else: # 292.5 <= arah_angin < 337.5\n",
    "        return 8 # Barat Laut\n",
    "\n",
    "# --- Di dalam skrip latih_model.py Anda ---\n",
    "# Ganti blok Feature Engineering Anda dengan ini:\n",
    "\n",
    "# ... (setelah membaca df)\n",
    "langkah_prediksi = 15\n",
    "df['intensitas_hujan_mendatang'] = df['intensitas_hujan'].shift(-langkah_prediksi).rolling(window=langkah_prediksi).max()\n",
    "df.dropna(inplace=True)\n",
    "\n",
    "# Buat target multi-kelas baru\n",
    "df['target_prediksi'] = df.apply(lambda row: tentukan_kelas_prediksi(row, langkah_prediksi), axis=1)\n",
    "\n",
    "# Hapus kolom bantuan\n",
    "df.drop(columns=['intensitas_hujan_mendatang'], inplace=True)\n",
    "\n",
    "# Target (y) sekarang adalah kolom baru ini\n",
    "y = df['target_prediksi']\n",
    "# df.sort_values('target_prediksi').reset_index(drop=False)\n",
    "# Tambahkan baris ini untuk melihat jumlah data per kelas\n",
    "print(\"Mengecek distribusi kelas pada variabel y:\")\n",
    "print(y.value_counts())\n"
   ]
  }
 ],
 "metadata": {
  "kernelspec": {
   "display_name": "Python 3",
   "language": "python",
   "name": "python3"
  },
  "language_info": {
   "codemirror_mode": {
    "name": "ipython",
    "version": 3
   },
   "file_extension": ".py",
   "mimetype": "text/x-python",
   "name": "python",
   "nbconvert_exporter": "python",
   "pygments_lexer": "ipython3",
   "version": "3.13.3"
  }
 },
 "nbformat": 4,
 "nbformat_minor": 5
}
