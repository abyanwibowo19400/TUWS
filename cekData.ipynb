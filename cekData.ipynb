{
 "cells": [
  {
   "cell_type": "code",
   "execution_count": 9,
   "id": "ed2f647e",
   "metadata": {},
   "outputs": [],
   "source": [
    "import pandas as pd\n"
   ]
  },
  {
   "cell_type": "code",
   "execution_count": null,
   "id": "233e51c0",
   "metadata": {},
   "outputs": [
    {
     "name": "stdout",
     "output_type": "stream",
     "text": [
      "1. Membaca file data...\n",
      "Error: File 'data_cuaca_historis_bandung.csv' tidak ditemukan.\n"
     ]
    }
   ],
   "source": [
    "# --- 1. MEMBACA DAN MEMPERSIAPKAN DATA ---\n",
    "print(\"1. Membaca file data...\")\n",
    "try:\n",
    "    # Ganti nama file jika berbeda\n",
    "    # df = pd.read_csv(\"dataset/data_cuaca_historis_bandung.csv\") \n",
    "    # df = pd.read_csv(\"dataset/data_cuaca_telkom_MASTER.csv\") \n",
    "    # df = pd.read_csv(\"data_cuaca_augmented.csv\") \n",
    "    df = pd.read_csv(\"dataset/data_cuaca_augmented_telkom.csv\") \n",
    "except FileNotFoundError:\n",
    "    print(\"Error: File 'data_cuaca_historis_bandung.csv' tidak ditemukan.\")\n",
    "    exit()"
   ]
  },
  {
   "cell_type": "code",
   "execution_count": 11,
   "id": "a434d17b",
   "metadata": {},
   "outputs": [
    {
     "name": "stdout",
     "output_type": "stream",
     "text": [
      "Data berhasil dibaca. Jumlah baris: 643\n",
      "Contoh data:\n",
      "            timestamp  suhu  kelembaban  kecepatan_angin  arah_angin  \\\n",
      "0 2025-09-29 16:50:00  25.3          72              1.1         200   \n",
      "1 2025-09-29 16:55:00  25.3          72              0.8         211   \n",
      "2 2025-09-29 17:00:00  25.3          72              0.4         219   \n",
      "3 2025-09-29 17:05:00  25.5          71              0.4         276   \n",
      "4 2025-09-29 17:10:00  25.5          71              0.7         286   \n",
      "\n",
      "   tekanan_udara  intensitas_hujan  intensitas_cahaya  target_prediksi  \n",
      "0         1013.0               0.0             6300.8                0  \n",
      "1         1013.1               0.0             5351.8                0  \n",
      "2         1013.2               0.0             4482.6                0  \n",
      "3         1013.1               0.0             4239.4                0  \n",
      "4         1013.1               0.0             3579.3                0  \n"
     ]
    }
   ],
   "source": [
    "# Mengubah 'timestamp' menjadi tipe data datetime\n",
    "df['timestamp'] = pd.to_datetime(df['timestamp'])\n",
    "df = df.sort_values('timestamp').reset_index(drop=True)\n",
    "\n",
    "print(f\"Data berhasil dibaca. Jumlah baris: {len(df)}\")\n",
    "print(\"Contoh data:\")\n",
    "print(df.head())"
   ]
  },
  {
   "cell_type": "code",
   "execution_count": null,
   "id": "95b17ed1",
   "metadata": {},
   "outputs": [
    {
     "name": "stdout",
     "output_type": "stream",
     "text": [
      "Mengecek distribusi kelas pada variabel y:\n",
      "target_prediksi\n",
      "0    531\n",
      "2     18\n",
      "8     16\n",
      "5     13\n",
      "6     12\n",
      "1     10\n",
      "7      7\n",
      "4      5\n",
      "3      2\n",
      "Name: count, dtype: int64\n"
     ]
    },
    {
     "ename": "",
     "evalue": "",
     "output_type": "error",
     "traceback": [
      "\u001b[1;31mThe Kernel crashed while executing code in the current cell or a previous cell. \n",
      "\u001b[1;31mPlease review the code in the cell(s) to identify a possible cause of the failure. \n",
      "\u001b[1;31mClick <a href='https://aka.ms/vscodeJupyterKernelCrash'>here</a> for more info. \n",
      "\u001b[1;31mView Jupyter <a href='command:jupyter.viewOutput'>log</a> for further details."
     ]
    }
   ],
   "source": [
    "def tentukan_kelas_prediksi(row, langkah_prediksi):\n",
    "    # Cek apakah akan hujan dalam 'langkah_prediksi' ke depan\n",
    "    akan_hujan = row['intensitas_hujan_mendatang'] > 0\n",
    "    \n",
    "    if not akan_hujan:\n",
    "        return 0 # Kelas 0: Tidak Hujan\n",
    "    \n",
    "    # Jika akan hujan, tentukan arahnya dari 'arah_angin' saat ini\n",
    "    arah_angin = row['arah_angin']\n",
    "    \n",
    "    if 337.5 <= arah_angin < 360 or 0 <= arah_angin < 22.5:\n",
    "        return 1 # Utara\n",
    "    elif 22.5 <= arah_angin < 67.5:\n",
    "        return 2 # Timur Laut\n",
    "    elif 67.5 <= arah_angin < 112.5:\n",
    "        return 3 # Timur\n",
    "    elif 112.5 <= arah_angin < 157.5:\n",
    "        return 4 # Tenggara\n",
    "    elif 157.5 <= arah_angin < 202.5:\n",
    "        return 5 # Selatan\n",
    "    elif 202.5 <= arah_angin < 247.5:\n",
    "        return 6 # Barat Daya\n",
    "    elif 247.5 <= arah_angin < 292.5:\n",
    "        return 7 # Barat\n",
    "    else: # 292.5 <= arah_angin < 337.5\n",
    "        return 8 # Barat Laut\n",
    "\n",
    "# --- Di dalam skrip latih_model.py Anda ---\n",
    "# Ganti blok Feature Engineering Anda dengan ini:\n",
    "\n",
    "# ... (setelah membaca df)\n",
    "langkah_prediksi = 15\n",
    "df['intensitas_hujan_mendatang'] = df['intensitas_hujan'].shift(-langkah_prediksi).rolling(window=langkah_prediksi).max()\n",
    "df.dropna(inplace=True)\n",
    "\n",
    "# Buat target multi-kelas baru\n",
    "df['target_prediksi'] = df.apply(lambda row: tentukan_kelas_prediksi(row, langkah_prediksi), axis=1)\n",
    "\n",
    "# Hapus kolom bantuan\n",
    "df.drop(columns=['intensitas_hujan_mendatang'], inplace=True)\n",
    "\n",
    "# Target (y) sekarang adalah kolom baru ini\n",
    "y = df['target_prediksi']\n",
    "# df.sort_values('target_prediksi').reset_index(drop=False)\n",
    "# Tambahkan baris ini untuk melihat jumlah data per kelas\n",
    "print(\"Mengecek distribusi kelas pada variabel y:\")\n",
    "print(y.value_counts())\n"
   ]
  }
 ],
 "metadata": {
  "kernelspec": {
   "display_name": "Python 3",
   "language": "python",
   "name": "python3"
  },
  "language_info": {
   "codemirror_mode": {
    "name": "ipython",
    "version": 3
   },
   "file_extension": ".py",
   "mimetype": "text/x-python",
   "name": "python",
   "nbconvert_exporter": "python",
   "pygments_lexer": "ipython3",
   "version": "3.13.3"
  }
 },
 "nbformat": 4,
 "nbformat_minor": 5
}
